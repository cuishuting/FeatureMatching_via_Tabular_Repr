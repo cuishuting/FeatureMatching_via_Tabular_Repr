{
 "cells": [
  {
   "cell_type": "markdown",
   "id": "1e5d874a",
   "metadata": {},
   "source": [
    "# Only **mimic_chart_CV** dataset has the case where there are itemids should be divided into numeric variables but currently divided into categorical type. Because for mimic_chart_MV, we can directly get all the itemids' type from column 'param_type' in file './data/d_items_chartevents.csv' (the value for column 'dbsource' =='metavision')"
   ]
  },
  {
   "cell_type": "code",
   "execution_count": 2,
   "id": "27d27163",
   "metadata": {},
   "outputs": [],
   "source": [
    "import pandas as pd\n",
    "import numpy as np\n",
    "import re\n",
    "import math\n",
    "pd.options.mode.chained_assignment = None "
   ]
  },
  {
   "cell_type": "markdown",
   "id": "ca403b0e",
   "metadata": {},
   "source": [
    "## Because I need to update the file \"mimic_chart_CV_reg_pre.csv\", so starting from reading original data from file \"mimic_chart_TS_carevue.csv\". Also reading original data from \"mimic_chart_TS_metavision.csv\" because we need some info from original mimic_chart_MV data to do preprocess on mimic_chart_CV original data"
   ]
  },
  {
   "cell_type": "markdown",
   "id": "c8ff1c18",
   "metadata": {},
   "source": [
    "## Below are a bunch of regular preprocessing on mimic_chart_CV data "
   ]
  },
  {
   "cell_type": "code",
   "execution_count": 3,
   "id": "384cd43e",
   "metadata": {},
   "outputs": [
    {
     "name": "stderr",
     "output_type": "stream",
     "text": [
      "/Users/shutingcui/opt/anaconda3/lib/python3.8/site-packages/IPython/core/interactiveshell.py:3165: DtypeWarning: Columns (8,10,13) have mixed types.Specify dtype option on import or set low_memory=False.\n",
      "  has_raised = await self.run_ast_nodes(code_ast.body, cell_name,\n"
     ]
    }
   ],
   "source": [
    "mimic_chart_CV = pd.read_csv(\"./data/mimic_chart_TS_carevue.csv\")"
   ]
  },
  {
   "cell_type": "markdown",
   "id": "f7ba3e10",
   "metadata": {},
   "source": [
    "* **A. delete 2 icu_stays that are extra for one hadm_id : 281378(for mimic_chart_MV) & 244034(for mimic_chart_CV) (\"icustay_id\")**"
   ]
  },
  {
   "cell_type": "code",
   "execution_count": 4,
   "id": "3be7d3c2",
   "metadata": {},
   "outputs": [],
   "source": [
    "mimic_chart_CV = mimic_chart_CV[mimic_chart_CV[\"icustay_id\"] != 244034]\n"
   ]
  },
  {
   "cell_type": "code",
   "execution_count": 5,
   "id": "5adc4e29",
   "metadata": {},
   "outputs": [
    {
     "name": "stderr",
     "output_type": "stream",
     "text": [
      "/Users/shutingcui/opt/anaconda3/lib/python3.8/site-packages/IPython/core/interactiveshell.py:3165: DtypeWarning: Columns (8,10,13,14) have mixed types.Specify dtype option on import or set low_memory=False.\n",
      "  has_raised = await self.run_ast_nodes(code_ast.body, cell_name,\n"
     ]
    }
   ],
   "source": [
    "mimic_chart_MV = pd.read_csv(\"./data/mimic_chart_TS_metavision.csv\")"
   ]
  },
  {
   "cell_type": "code",
   "execution_count": 6,
   "id": "13da824f",
   "metadata": {},
   "outputs": [],
   "source": [
    "mimic_chart_MV = mimic_chart_MV[mimic_chart_MV[\"icustay_id\"] != 281378]\n",
    "mimic_chart_MV = mimic_chart_MV[mimic_chart_MV['error'] == 0]"
   ]
  },
  {
   "cell_type": "markdown",
   "id": "82b17516",
   "metadata": {},
   "source": [
    "* **B. remove the common_itemid_chart from mimic_chart_CV, because those common_itemid_chart originally belongs to Metavision**"
   ]
  },
  {
   "cell_type": "code",
   "execution_count": 7,
   "id": "55f8d11e",
   "metadata": {},
   "outputs": [
    {
     "name": "stdout",
     "output_type": "stream",
     "text": [
      "original mimic_chart_CV's shape:  (38235037, 17)\n",
      "after dropping the columns from metavision, current mimic_chart_CV's shape is:  (38077104, 17)\n"
     ]
    }
   ],
   "source": [
    "print(\"original mimic_chart_CV's shape: \", mimic_chart_CV.shape)\n",
    "common_itemid_chart = set(mimic_chart_CV[\"itemid\"].unique()).intersection(set(mimic_chart_MV[\"itemid\"].unique()))\n",
    "mimic_chart_CV = mimic_chart_CV.loc[~mimic_chart_CV[\"itemid\"].isin(common_itemid_chart)]\n",
    "mimic_chart_CV.reset_index(drop=True, inplace=True)\n",
    "print(\"after dropping the columns from metavision, current mimic_chart_CV's shape is: \", mimic_chart_CV.shape)\n"
   ]
  },
  {
   "cell_type": "code",
   "execution_count": 8,
   "id": "d8eaa7a8",
   "metadata": {},
   "outputs": [
    {
     "name": "stdout",
     "output_type": "stream",
     "text": [
      "No common itemid between 2 eras for chartevent data\n"
     ]
    }
   ],
   "source": [
    "# check whether successfully delete itemids belonging to MV from CV for chart_event data\n",
    "if list(set(mimic_chart_CV[\"itemid\"].unique()).intersection(set(mimic_chart_MV[\"itemid\"].unique()))) == []:\n",
    "    print(\"No common itemid between 2 eras for chartevent data\") "
   ]
  },
  {
   "cell_type": "code",
   "execution_count": 9,
   "id": "f72fc5ac",
   "metadata": {},
   "outputs": [
    {
     "name": "stdout",
     "output_type": "stream",
     "text": [
      "No common hadm_id between 2 eras for chartevent data\n"
     ]
    }
   ],
   "source": [
    "if list(set(mimic_chart_CV[\"hadm_id\"].unique()).intersection(set(mimic_chart_MV[\"hadm_id\"].unique()))) == []:\n",
    "    print(\"No common hadm_id between 2 eras for chartevent data\")\n",
    "    \n"
   ]
  },
  {
   "cell_type": "markdown",
   "id": "ac9d7151",
   "metadata": {},
   "source": [
    "* **C. selecting only adult patients in the dataset (need to connect with data in AdultpatientsAge.csv)**"
   ]
  },
  {
   "cell_type": "code",
   "execution_count": 10,
   "id": "5f365c17",
   "metadata": {},
   "outputs": [],
   "source": [
    "patients_adm_age = pd.read_csv(\"./data/Adult_patientsAge.csv\")\n"
   ]
  },
  {
   "cell_type": "code",
   "execution_count": 11,
   "id": "cbbc936c",
   "metadata": {},
   "outputs": [],
   "source": [
    "patients_adm_age.loc[patients_adm_age[\"age\"] >= 300, \"age\"] = 90"
   ]
  },
  {
   "cell_type": "code",
   "execution_count": 12,
   "id": "3fe26bd7",
   "metadata": {},
   "outputs": [],
   "source": [
    "adult_hadmid_CV_chart = list(set(mimic_chart_CV[\"hadm_id\"].unique()).intersection(set(patients_adm_age[\"hadm_id\"].unique())))\n"
   ]
  },
  {
   "cell_type": "code",
   "execution_count": 13,
   "id": "bd15d193",
   "metadata": {},
   "outputs": [
    {
     "name": "stdout",
     "output_type": "stream",
     "text": [
      "original shape of mimic_chart_CV:  (38077104, 17)\n",
      "new shape of mimic_chart_CV:  (34562488, 17)\n"
     ]
    }
   ],
   "source": [
    "print(\"original shape of mimic_chart_CV: \", mimic_chart_CV.shape)\n",
    "mimic_chart_CV = mimic_chart_CV[mimic_chart_CV[\"hadm_id\"].isin(adult_hadmid_CV_chart)]\n",
    "print(\"new shape of mimic_chart_CV: \", mimic_chart_CV.shape)\n"
   ]
  },
  {
   "cell_type": "markdown",
   "id": "e71f265f",
   "metadata": {},
   "source": [
    "## Below are the first step to transfer the obvious numeric type itemid in mimic_chart_CV from string to float"
   ]
  },
  {
   "cell_type": "code",
   "execution_count": 14,
   "id": "22aa7394",
   "metadata": {},
   "outputs": [
    {
     "name": "stdout",
     "output_type": "stream",
     "text": [
      "number of numeric temporal variables in mimic_chart_CV data:  1087\n",
      "number of non-numeric temporal variables in mimic_chart_CV data:  955\n"
     ]
    }
   ],
   "source": [
    "# numeric itemid list for chartevent data metavision: list_itemid_num_chart_MV\n",
    "# categorical itemid list for chartevent data metavision: list_itemid_cat_chart_MV\n",
    "# labevent data metavision&carevue have been already all numeric\n",
    "list_itemid_num_chart_CV = []\n",
    "initial_list_itemid_non_num_chart_CV = []\n",
    "itemid_list_chart_CV = mimic_chart_CV[\"itemid\"].unique()\n",
    "chart_CV_groupby_itemid = mimic_chart_CV[[\"itemid\", \"value\"]].groupby(\"itemid\")\n",
    "for i,itemid in enumerate(itemid_list_chart_CV):\n",
    "    cur_itemid_values = chart_CV_groupby_itemid.get_group(itemid)\n",
    "    try:\n",
    "        pd.to_numeric(cur_itemid_values[\"value\"], downcast=\"float\")\n",
    "        list_itemid_num_chart_CV.append(itemid)\n",
    "    except ValueError:\n",
    "        temp = pd.to_numeric(cur_itemid_values[\"value\"].unique(), errors='coerce', downcast='float')\n",
    "        if np.isnan(temp).sum() != len(temp): # this is the case where the non-numerics are actually -> \n",
    "            # numeric but due to some terms like error or no data they have gone into non-numeric set.\n",
    "            list_itemid_num_chart_CV.append(itemid)\n",
    "        else:\n",
    "#             print(itemid)\n",
    "#             print(cur_itemid_values[\"value\"].unique())\n",
    "            initial_list_itemid_non_num_chart_CV.append(itemid)\n",
    "        pass\n",
    "print(\"number of numeric temporal variables in mimic_chart_CV data: \", len(list_itemid_num_chart_CV))\n",
    "print(\"number of non-numeric temporal variables in mimic_chart_CV data: \", len(initial_list_itemid_non_num_chart_CV))\n"
   ]
  },
  {
   "cell_type": "markdown",
   "id": "41081481",
   "metadata": {},
   "source": [
    "## only those \"categorical\" variables with more than 10 unique values would be considered as the alternative for the numeric variables"
   ]
  },
  {
   "cell_type": "code",
   "execution_count": 15,
   "id": "822a4f07",
   "metadata": {},
   "outputs": [
    {
     "name": "stdout",
     "output_type": "stream",
     "text": [
      "146\n",
      "809\n",
      "955\n"
     ]
    }
   ],
   "source": [
    "itemid_list_chart_CV_numeric_alternative = []\n",
    "categorical_itemid_list_chart_CV = []\n",
    "for itemid in initial_list_itemid_non_num_chart_CV:\n",
    "    cur_itemid_values = chart_CV_groupby_itemid.get_group(itemid)\n",
    "    if len(cur_itemid_values[\"value\"].unique()) > 10:\n",
    "        itemid_list_chart_CV_numeric_alternative.append(itemid)\n",
    "    else:\n",
    "        categorical_itemid_list_chart_CV.append(itemid)\n",
    "print(len(itemid_list_chart_CV_numeric_alternative))\n",
    "print(len(categorical_itemid_list_chart_CV))\n",
    "print(len(initial_list_itemid_non_num_chart_CV))\n"
   ]
  },
  {
   "cell_type": "code",
   "execution_count": 17,
   "id": "747933cd",
   "metadata": {
    "scrolled": true
   },
   "outputs": [
    {
     "data": {
      "text/html": [
       "<div>\n",
       "<style scoped>\n",
       "    .dataframe tbody tr th:only-of-type {\n",
       "        vertical-align: middle;\n",
       "    }\n",
       "\n",
       "    .dataframe tbody tr th {\n",
       "        vertical-align: top;\n",
       "    }\n",
       "\n",
       "    .dataframe thead th {\n",
       "        text-align: right;\n",
       "    }\n",
       "</style>\n",
       "<table border=\"1\" class=\"dataframe\">\n",
       "  <thead>\n",
       "    <tr style=\"text-align: right;\">\n",
       "      <th></th>\n",
       "      <th>itemid_cat_chart_CV</th>\n",
       "    </tr>\n",
       "  </thead>\n",
       "  <tbody>\n",
       "    <tr>\n",
       "      <th>0</th>\n",
       "      <td>160</td>\n",
       "    </tr>\n",
       "    <tr>\n",
       "      <th>1</th>\n",
       "      <td>705</td>\n",
       "    </tr>\n",
       "    <tr>\n",
       "      <th>2</th>\n",
       "      <td>1</td>\n",
       "    </tr>\n",
       "    <tr>\n",
       "      <th>3</th>\n",
       "      <td>6</td>\n",
       "    </tr>\n",
       "    <tr>\n",
       "      <th>4</th>\n",
       "      <td>8272</td>\n",
       "    </tr>\n",
       "    <tr>\n",
       "      <th>...</th>\n",
       "      <td>...</td>\n",
       "    </tr>\n",
       "    <tr>\n",
       "      <th>804</th>\n",
       "      <td>1330</td>\n",
       "    </tr>\n",
       "    <tr>\n",
       "      <th>805</th>\n",
       "      <td>1229</td>\n",
       "    </tr>\n",
       "    <tr>\n",
       "      <th>806</th>\n",
       "      <td>478</td>\n",
       "    </tr>\n",
       "    <tr>\n",
       "      <th>807</th>\n",
       "      <td>616</td>\n",
       "    </tr>\n",
       "    <tr>\n",
       "      <th>808</th>\n",
       "      <td>1046</td>\n",
       "    </tr>\n",
       "  </tbody>\n",
       "</table>\n",
       "<p>809 rows × 1 columns</p>\n",
       "</div>"
      ],
      "text/plain": [
       "     itemid_cat_chart_CV\n",
       "0                    160\n",
       "1                    705\n",
       "2                      1\n",
       "3                      6\n",
       "4                   8272\n",
       "..                   ...\n",
       "804                 1330\n",
       "805                 1229\n",
       "806                  478\n",
       "807                  616\n",
       "808                 1046\n",
       "\n",
       "[809 rows x 1 columns]"
      ]
     },
     "execution_count": 17,
     "metadata": {},
     "output_type": "execute_result"
    }
   ],
   "source": [
    "cat_itemid_chart_CV_df= pd.DataFrame(dict(itemid_cat_chart_CV=categorical_itemid_list_chart_CV))\n",
    "cat_itemid_chart_CV_df"
   ]
  },
  {
   "cell_type": "code",
   "execution_count": 18,
   "id": "c1d60879",
   "metadata": {},
   "outputs": [],
   "source": [
    "cat_itemid_chart_CV_df.to_csv(\"./data/chart_CV_cat_itemid_list.csv\", index=False)"
   ]
  },
  {
   "cell_type": "markdown",
   "id": "5a9f7713",
   "metadata": {},
   "source": [
    "## using Regular Expression to try to match the first index in the series returned by value_counts() for itemids in itemid_list_chart_CV_numeric_alternative\n",
    "## if the first index has the form \"xcm\" or \"x cm\" or \"xmm\" or \"x mm\" or \"Other/Remarks\", then it will be selected to transform to numeric itemid\n"
   ]
  },
  {
   "cell_type": "code",
   "execution_count": 19,
   "id": "abef5f30",
   "metadata": {},
   "outputs": [
    {
     "name": "stderr",
     "output_type": "stream",
     "text": [
      "<ipython-input-19-c2caa766cc71>:6: FutureWarning: Possible nested set at position 12\n",
      "  match_result = re.search(\"^[\\d|.|\\s]+[[cm]|[mm]]$\", cur_itemid_first_unique_value, flags=0)\n"
     ]
    }
   ],
   "source": [
    "\n",
    "final_cat_to_num_itemid_list = []\n",
    "for itemid in itemid_list_chart_CV_numeric_alternative:\n",
    "    cur_itemid_values = chart_CV_groupby_itemid.get_group(itemid)\n",
    "    cur_itemid_value_counts = cur_itemid_values[\"value\"].value_counts()\n",
    "    cur_itemid_first_unique_value = cur_itemid_value_counts.index[0]\n",
    "    match_result = re.search(\"^[\\d|.|\\s]+[[cm]|[mm]]$\", cur_itemid_first_unique_value, flags=0)\n",
    "    if match_result is None:\n",
    "        continue\n",
    "    else: \n",
    "        if (cur_itemid_first_unique_value == match_result.string) or (cur_itemid_first_unique_value == \"Other/Remarks\"):\n",
    "            final_cat_to_num_itemid_list.append(itemid)\n",
    "        "
   ]
  },
  {
   "cell_type": "markdown",
   "id": "e4cf8445",
   "metadata": {},
   "source": [
    "## \"final_cat_to_num_itemid_list\" contains the final numeric alternative itemids"
   ]
  },
  {
   "cell_type": "code",
   "execution_count": 20,
   "id": "81cc9bce",
   "metadata": {},
   "outputs": [
    {
     "data": {
      "text/plain": [
       "[368, 369, 370, 371, 8410, 8411, 8412, 8413, 8463, 39, 561, 562, 563, 157]"
      ]
     },
     "execution_count": 20,
     "metadata": {},
     "output_type": "execute_result"
    }
   ],
   "source": [
    "final_cat_to_num_itemid_list"
   ]
  },
  {
   "cell_type": "code",
   "execution_count": 21,
   "id": "5f841d59",
   "metadata": {},
   "outputs": [],
   "source": [
    "rows_need_transform = mimic_chart_CV[mimic_chart_CV[\"itemid\"].isin(final_cat_to_num_itemid_list)]\n",
    "# rows_need_transform"
   ]
  },
  {
   "cell_type": "markdown",
   "id": "42ad752a",
   "metadata": {},
   "source": [
    "## For chartevent data, use column \"value\" to get values for each itemid\n",
    "\n",
    "* !! Notice that if (type(x[\"value\"]) is float) == True, then current row's \"value\" is NaN"
   ]
  },
  {
   "cell_type": "code",
   "execution_count": 22,
   "id": "fc7d2ec9",
   "metadata": {},
   "outputs": [
    {
     "data": {
      "text/html": [
       "<div>\n",
       "<style scoped>\n",
       "    .dataframe tbody tr th:only-of-type {\n",
       "        vertical-align: middle;\n",
       "    }\n",
       "\n",
       "    .dataframe tbody tr th {\n",
       "        vertical-align: top;\n",
       "    }\n",
       "\n",
       "    .dataframe thead th {\n",
       "        text-align: right;\n",
       "    }\n",
       "</style>\n",
       "<table border=\"1\" class=\"dataframe\">\n",
       "  <thead>\n",
       "    <tr style=\"text-align: right;\">\n",
       "      <th></th>\n",
       "      <th>row_id</th>\n",
       "      <th>subject_id</th>\n",
       "      <th>hadm_id</th>\n",
       "      <th>icustay_id</th>\n",
       "      <th>itemid</th>\n",
       "      <th>charttime</th>\n",
       "      <th>storetime</th>\n",
       "      <th>cgid</th>\n",
       "      <th>value</th>\n",
       "      <th>valuenum</th>\n",
       "      <th>valueuom</th>\n",
       "      <th>warning</th>\n",
       "      <th>error</th>\n",
       "      <th>resultstatus</th>\n",
       "      <th>stopped</th>\n",
       "      <th>expire_flag</th>\n",
       "      <th>dbsource</th>\n",
       "      <th>scalar_value</th>\n",
       "    </tr>\n",
       "  </thead>\n",
       "  <tbody>\n",
       "    <tr>\n",
       "      <th>2611518</th>\n",
       "      <td>193302570</td>\n",
       "      <td>147</td>\n",
       "      <td>103631</td>\n",
       "      <td>252947.0</td>\n",
       "      <td>368</td>\n",
       "      <td>2158-06-25 11:00:00</td>\n",
       "      <td>2158-06-25 11:53:00</td>\n",
       "      <td>17399</td>\n",
       "      <td>0.5 cm</td>\n",
       "      <td>NaN</td>\n",
       "      <td>NaN</td>\n",
       "      <td>NaN</td>\n",
       "      <td>NaN</td>\n",
       "      <td>NaN</td>\n",
       "      <td>NotStopd</td>\n",
       "      <td>0</td>\n",
       "      <td>carevue</td>\n",
       "      <td>0.5</td>\n",
       "    </tr>\n",
       "    <tr>\n",
       "      <th>2611537</th>\n",
       "      <td>193151655</td>\n",
       "      <td>3</td>\n",
       "      <td>145834</td>\n",
       "      <td>211552.0</td>\n",
       "      <td>368</td>\n",
       "      <td>2101-10-21 11:00:00</td>\n",
       "      <td>2101-10-21 13:53:00</td>\n",
       "      <td>19942</td>\n",
       "      <td>NaN</td>\n",
       "      <td>NaN</td>\n",
       "      <td>NaN</td>\n",
       "      <td>NaN</td>\n",
       "      <td>NaN</td>\n",
       "      <td>NaN</td>\n",
       "      <td>NotStopd</td>\n",
       "      <td>1</td>\n",
       "      <td>carevue</td>\n",
       "      <td>NaN</td>\n",
       "    </tr>\n",
       "    <tr>\n",
       "      <th>2611678</th>\n",
       "      <td>193340348</td>\n",
       "      <td>172</td>\n",
       "      <td>148505</td>\n",
       "      <td>235343.0</td>\n",
       "      <td>368</td>\n",
       "      <td>2168-07-23 09:00:00</td>\n",
       "      <td>2168-07-23 09:25:00</td>\n",
       "      <td>21570</td>\n",
       "      <td>2 cm</td>\n",
       "      <td>NaN</td>\n",
       "      <td>NaN</td>\n",
       "      <td>NaN</td>\n",
       "      <td>NaN</td>\n",
       "      <td>NaN</td>\n",
       "      <td>NotStopd</td>\n",
       "      <td>0</td>\n",
       "      <td>carevue</td>\n",
       "      <td>2.0</td>\n",
       "    </tr>\n",
       "    <tr>\n",
       "      <th>2611679</th>\n",
       "      <td>193340349</td>\n",
       "      <td>172</td>\n",
       "      <td>148505</td>\n",
       "      <td>235343.0</td>\n",
       "      <td>369</td>\n",
       "      <td>2168-07-23 09:00:00</td>\n",
       "      <td>2168-07-23 09:25:00</td>\n",
       "      <td>21570</td>\n",
       "      <td>2 cm</td>\n",
       "      <td>NaN</td>\n",
       "      <td>NaN</td>\n",
       "      <td>NaN</td>\n",
       "      <td>NaN</td>\n",
       "      <td>NaN</td>\n",
       "      <td>NotStopd</td>\n",
       "      <td>0</td>\n",
       "      <td>carevue</td>\n",
       "      <td>2.0</td>\n",
       "    </tr>\n",
       "    <tr>\n",
       "      <th>2611680</th>\n",
       "      <td>193340350</td>\n",
       "      <td>172</td>\n",
       "      <td>148505</td>\n",
       "      <td>235343.0</td>\n",
       "      <td>370</td>\n",
       "      <td>2168-07-23 09:00:00</td>\n",
       "      <td>2168-07-23 09:25:00</td>\n",
       "      <td>21570</td>\n",
       "      <td>2 cm</td>\n",
       "      <td>NaN</td>\n",
       "      <td>NaN</td>\n",
       "      <td>NaN</td>\n",
       "      <td>NaN</td>\n",
       "      <td>NaN</td>\n",
       "      <td>NotStopd</td>\n",
       "      <td>0</td>\n",
       "      <td>carevue</td>\n",
       "      <td>2.0</td>\n",
       "    </tr>\n",
       "    <tr>\n",
       "      <th>...</th>\n",
       "      <td>...</td>\n",
       "      <td>...</td>\n",
       "      <td>...</td>\n",
       "      <td>...</td>\n",
       "      <td>...</td>\n",
       "      <td>...</td>\n",
       "      <td>...</td>\n",
       "      <td>...</td>\n",
       "      <td>...</td>\n",
       "      <td>...</td>\n",
       "      <td>...</td>\n",
       "      <td>...</td>\n",
       "      <td>...</td>\n",
       "      <td>...</td>\n",
       "      <td>...</td>\n",
       "      <td>...</td>\n",
       "      <td>...</td>\n",
       "      <td>...</td>\n",
       "    </tr>\n",
       "    <tr>\n",
       "      <th>33952888</th>\n",
       "      <td>225785523</td>\n",
       "      <td>32759</td>\n",
       "      <td>158709</td>\n",
       "      <td>220657.0</td>\n",
       "      <td>157</td>\n",
       "      <td>2169-10-06 06:00:00</td>\n",
       "      <td>2169-10-06 06:19:00</td>\n",
       "      <td>19637</td>\n",
       "      <td>23cm</td>\n",
       "      <td>NaN</td>\n",
       "      <td>NaN</td>\n",
       "      <td>NaN</td>\n",
       "      <td>NaN</td>\n",
       "      <td>NaN</td>\n",
       "      <td>NotStopd</td>\n",
       "      <td>1</td>\n",
       "      <td>carevue</td>\n",
       "      <td>23.0</td>\n",
       "    </tr>\n",
       "    <tr>\n",
       "      <th>33952893</th>\n",
       "      <td>225754864</td>\n",
       "      <td>32736</td>\n",
       "      <td>185249</td>\n",
       "      <td>266299.0</td>\n",
       "      <td>157</td>\n",
       "      <td>2135-08-02 04:00:00</td>\n",
       "      <td>2135-08-02 05:00:00</td>\n",
       "      <td>15498</td>\n",
       "      <td>24cm</td>\n",
       "      <td>NaN</td>\n",
       "      <td>NaN</td>\n",
       "      <td>NaN</td>\n",
       "      <td>NaN</td>\n",
       "      <td>NaN</td>\n",
       "      <td>NotStopd</td>\n",
       "      <td>0</td>\n",
       "      <td>carevue</td>\n",
       "      <td>24.0</td>\n",
       "    </tr>\n",
       "    <tr>\n",
       "      <th>33952897</th>\n",
       "      <td>225763223</td>\n",
       "      <td>32743</td>\n",
       "      <td>133436</td>\n",
       "      <td>257061.0</td>\n",
       "      <td>157</td>\n",
       "      <td>2198-09-06 07:00:00</td>\n",
       "      <td>2198-09-06 07:00:00</td>\n",
       "      <td>21570</td>\n",
       "      <td>NaN</td>\n",
       "      <td>NaN</td>\n",
       "      <td>NaN</td>\n",
       "      <td>NaN</td>\n",
       "      <td>NaN</td>\n",
       "      <td>NaN</td>\n",
       "      <td>D/C'd</td>\n",
       "      <td>0</td>\n",
       "      <td>carevue</td>\n",
       "      <td>NaN</td>\n",
       "    </tr>\n",
       "    <tr>\n",
       "      <th>33952901</th>\n",
       "      <td>225757291</td>\n",
       "      <td>32738</td>\n",
       "      <td>199704</td>\n",
       "      <td>237655.0</td>\n",
       "      <td>157</td>\n",
       "      <td>2155-07-19 19:15:00</td>\n",
       "      <td>2155-07-19 19:18:00</td>\n",
       "      <td>18366</td>\n",
       "      <td>24cm</td>\n",
       "      <td>NaN</td>\n",
       "      <td>NaN</td>\n",
       "      <td>NaN</td>\n",
       "      <td>NaN</td>\n",
       "      <td>NaN</td>\n",
       "      <td>NotStopd</td>\n",
       "      <td>1</td>\n",
       "      <td>carevue</td>\n",
       "      <td>24.0</td>\n",
       "    </tr>\n",
       "    <tr>\n",
       "      <th>33952904</th>\n",
       "      <td>225763617</td>\n",
       "      <td>32745</td>\n",
       "      <td>145060</td>\n",
       "      <td>295570.0</td>\n",
       "      <td>157</td>\n",
       "      <td>2151-07-15 03:00:00</td>\n",
       "      <td>2151-07-15 03:17:00</td>\n",
       "      <td>21005</td>\n",
       "      <td>22cm</td>\n",
       "      <td>NaN</td>\n",
       "      <td>NaN</td>\n",
       "      <td>NaN</td>\n",
       "      <td>NaN</td>\n",
       "      <td>NaN</td>\n",
       "      <td>NotStopd</td>\n",
       "      <td>1</td>\n",
       "      <td>carevue</td>\n",
       "      <td>22.0</td>\n",
       "    </tr>\n",
       "  </tbody>\n",
       "</table>\n",
       "<p>147701 rows × 18 columns</p>\n",
       "</div>"
      ],
      "text/plain": [
       "             row_id  subject_id  hadm_id  icustay_id  itemid  \\\n",
       "2611518   193302570         147   103631    252947.0     368   \n",
       "2611537   193151655           3   145834    211552.0     368   \n",
       "2611678   193340348         172   148505    235343.0     368   \n",
       "2611679   193340349         172   148505    235343.0     369   \n",
       "2611680   193340350         172   148505    235343.0     370   \n",
       "...             ...         ...      ...         ...     ...   \n",
       "33952888  225785523       32759   158709    220657.0     157   \n",
       "33952893  225754864       32736   185249    266299.0     157   \n",
       "33952897  225763223       32743   133436    257061.0     157   \n",
       "33952901  225757291       32738   199704    237655.0     157   \n",
       "33952904  225763617       32745   145060    295570.0     157   \n",
       "\n",
       "                    charttime            storetime   cgid   value  valuenum  \\\n",
       "2611518   2158-06-25 11:00:00  2158-06-25 11:53:00  17399  0.5 cm       NaN   \n",
       "2611537   2101-10-21 11:00:00  2101-10-21 13:53:00  19942     NaN       NaN   \n",
       "2611678   2168-07-23 09:00:00  2168-07-23 09:25:00  21570    2 cm       NaN   \n",
       "2611679   2168-07-23 09:00:00  2168-07-23 09:25:00  21570    2 cm       NaN   \n",
       "2611680   2168-07-23 09:00:00  2168-07-23 09:25:00  21570    2 cm       NaN   \n",
       "...                       ...                  ...    ...     ...       ...   \n",
       "33952888  2169-10-06 06:00:00  2169-10-06 06:19:00  19637    23cm       NaN   \n",
       "33952893  2135-08-02 04:00:00  2135-08-02 05:00:00  15498    24cm       NaN   \n",
       "33952897  2198-09-06 07:00:00  2198-09-06 07:00:00  21570     NaN       NaN   \n",
       "33952901  2155-07-19 19:15:00  2155-07-19 19:18:00  18366    24cm       NaN   \n",
       "33952904  2151-07-15 03:00:00  2151-07-15 03:17:00  21005    22cm       NaN   \n",
       "\n",
       "         valueuom  warning  error resultstatus   stopped  expire_flag  \\\n",
       "2611518       NaN      NaN    NaN          NaN  NotStopd            0   \n",
       "2611537       NaN      NaN    NaN          NaN  NotStopd            1   \n",
       "2611678       NaN      NaN    NaN          NaN  NotStopd            0   \n",
       "2611679       NaN      NaN    NaN          NaN  NotStopd            0   \n",
       "2611680       NaN      NaN    NaN          NaN  NotStopd            0   \n",
       "...           ...      ...    ...          ...       ...          ...   \n",
       "33952888      NaN      NaN    NaN          NaN  NotStopd            1   \n",
       "33952893      NaN      NaN    NaN          NaN  NotStopd            0   \n",
       "33952897      NaN      NaN    NaN          NaN     D/C'd            0   \n",
       "33952901      NaN      NaN    NaN          NaN  NotStopd            1   \n",
       "33952904      NaN      NaN    NaN          NaN  NotStopd            1   \n",
       "\n",
       "         dbsource  scalar_value  \n",
       "2611518   carevue           0.5  \n",
       "2611537   carevue           NaN  \n",
       "2611678   carevue           2.0  \n",
       "2611679   carevue           2.0  \n",
       "2611680   carevue           2.0  \n",
       "...           ...           ...  \n",
       "33952888  carevue          23.0  \n",
       "33952893  carevue          24.0  \n",
       "33952897  carevue           NaN  \n",
       "33952901  carevue          24.0  \n",
       "33952904  carevue          22.0  \n",
       "\n",
       "[147701 rows x 18 columns]"
      ]
     },
     "execution_count": 22,
     "metadata": {},
     "output_type": "execute_result"
    }
   ],
   "source": [
    "# if type of column \"value\" is float, then the corresponding value is NaN\n",
    "values_to_be_transformed = rows_need_transform[rows_need_transform[\"value\"] != \"Other/Remarks\"]\n",
    "values_to_be_transformed[[\"scalar_value\"]] = values_to_be_transformed[[\"value\"]].apply((lambda x: np.nan if (type(x[\"value\"]) is float) else float(re.findall('[\\d]+[.]*[\\d]*', x[\"value\"])[0])), axis=1)\n",
    "values_to_be_transformed\n",
    "# import re\n",
    "\n",
    "# new_string = '2.4mm'\n",
    "# new_result = re.findall('[\\d]+[.]*[\\d]+', new_string)\n",
    "# print(new_result)"
   ]
  },
  {
   "cell_type": "code",
   "execution_count": 23,
   "id": "1d277fde",
   "metadata": {},
   "outputs": [
    {
     "name": "stdout",
     "output_type": "stream",
     "text": [
      "147701\n"
     ]
    }
   ],
   "source": [
    "# var \"row_id_list_already_tranformed\" contains row_id of those itemids that the value of col \"value\" is not \"Other/Remarks\"\n",
    "row_id_list_already_tranformed = values_to_be_transformed[\"row_id\"]\n",
    "print(len(row_id_list_already_tranformed))"
   ]
  },
  {
   "cell_type": "code",
   "execution_count": 24,
   "id": "8772f78f",
   "metadata": {},
   "outputs": [],
   "source": [
    "mimic_chart_CV.loc[mimic_chart_CV[\"row_id\"].isin(row_id_list_already_tranformed),['value']] = values_to_be_transformed[\"scalar_value\"]\n"
   ]
  },
  {
   "cell_type": "code",
   "execution_count": 25,
   "id": "ac96580e",
   "metadata": {},
   "outputs": [
    {
     "data": {
      "text/html": [
       "<div>\n",
       "<style scoped>\n",
       "    .dataframe tbody tr th:only-of-type {\n",
       "        vertical-align: middle;\n",
       "    }\n",
       "\n",
       "    .dataframe tbody tr th {\n",
       "        vertical-align: top;\n",
       "    }\n",
       "\n",
       "    .dataframe thead th {\n",
       "        text-align: right;\n",
       "    }\n",
       "</style>\n",
       "<table border=\"1\" class=\"dataframe\">\n",
       "  <thead>\n",
       "    <tr style=\"text-align: right;\">\n",
       "      <th></th>\n",
       "      <th>row_id</th>\n",
       "      <th>subject_id</th>\n",
       "      <th>hadm_id</th>\n",
       "      <th>icustay_id</th>\n",
       "      <th>itemid</th>\n",
       "      <th>charttime</th>\n",
       "      <th>storetime</th>\n",
       "      <th>cgid</th>\n",
       "      <th>value</th>\n",
       "      <th>valuenum</th>\n",
       "      <th>valueuom</th>\n",
       "      <th>warning</th>\n",
       "      <th>error</th>\n",
       "      <th>resultstatus</th>\n",
       "      <th>stopped</th>\n",
       "      <th>expire_flag</th>\n",
       "      <th>dbsource</th>\n",
       "    </tr>\n",
       "  </thead>\n",
       "  <tbody>\n",
       "    <tr>\n",
       "      <th>2611518</th>\n",
       "      <td>193302570</td>\n",
       "      <td>147</td>\n",
       "      <td>103631</td>\n",
       "      <td>252947.0</td>\n",
       "      <td>368</td>\n",
       "      <td>2158-06-25 11:00:00</td>\n",
       "      <td>2158-06-25 11:53:00</td>\n",
       "      <td>17399</td>\n",
       "      <td>0.5</td>\n",
       "      <td>NaN</td>\n",
       "      <td>NaN</td>\n",
       "      <td>NaN</td>\n",
       "      <td>NaN</td>\n",
       "      <td>NaN</td>\n",
       "      <td>NotStopd</td>\n",
       "      <td>0</td>\n",
       "      <td>carevue</td>\n",
       "    </tr>\n",
       "    <tr>\n",
       "      <th>2611537</th>\n",
       "      <td>193151655</td>\n",
       "      <td>3</td>\n",
       "      <td>145834</td>\n",
       "      <td>211552.0</td>\n",
       "      <td>368</td>\n",
       "      <td>2101-10-21 11:00:00</td>\n",
       "      <td>2101-10-21 13:53:00</td>\n",
       "      <td>19942</td>\n",
       "      <td>NaN</td>\n",
       "      <td>NaN</td>\n",
       "      <td>NaN</td>\n",
       "      <td>NaN</td>\n",
       "      <td>NaN</td>\n",
       "      <td>NaN</td>\n",
       "      <td>NotStopd</td>\n",
       "      <td>1</td>\n",
       "      <td>carevue</td>\n",
       "    </tr>\n",
       "    <tr>\n",
       "      <th>2611678</th>\n",
       "      <td>193340348</td>\n",
       "      <td>172</td>\n",
       "      <td>148505</td>\n",
       "      <td>235343.0</td>\n",
       "      <td>368</td>\n",
       "      <td>2168-07-23 09:00:00</td>\n",
       "      <td>2168-07-23 09:25:00</td>\n",
       "      <td>21570</td>\n",
       "      <td>2.0</td>\n",
       "      <td>NaN</td>\n",
       "      <td>NaN</td>\n",
       "      <td>NaN</td>\n",
       "      <td>NaN</td>\n",
       "      <td>NaN</td>\n",
       "      <td>NotStopd</td>\n",
       "      <td>0</td>\n",
       "      <td>carevue</td>\n",
       "    </tr>\n",
       "    <tr>\n",
       "      <th>2611679</th>\n",
       "      <td>193340349</td>\n",
       "      <td>172</td>\n",
       "      <td>148505</td>\n",
       "      <td>235343.0</td>\n",
       "      <td>369</td>\n",
       "      <td>2168-07-23 09:00:00</td>\n",
       "      <td>2168-07-23 09:25:00</td>\n",
       "      <td>21570</td>\n",
       "      <td>2.0</td>\n",
       "      <td>NaN</td>\n",
       "      <td>NaN</td>\n",
       "      <td>NaN</td>\n",
       "      <td>NaN</td>\n",
       "      <td>NaN</td>\n",
       "      <td>NotStopd</td>\n",
       "      <td>0</td>\n",
       "      <td>carevue</td>\n",
       "    </tr>\n",
       "    <tr>\n",
       "      <th>2611680</th>\n",
       "      <td>193340350</td>\n",
       "      <td>172</td>\n",
       "      <td>148505</td>\n",
       "      <td>235343.0</td>\n",
       "      <td>370</td>\n",
       "      <td>2168-07-23 09:00:00</td>\n",
       "      <td>2168-07-23 09:25:00</td>\n",
       "      <td>21570</td>\n",
       "      <td>2.0</td>\n",
       "      <td>NaN</td>\n",
       "      <td>NaN</td>\n",
       "      <td>NaN</td>\n",
       "      <td>NaN</td>\n",
       "      <td>NaN</td>\n",
       "      <td>NotStopd</td>\n",
       "      <td>0</td>\n",
       "      <td>carevue</td>\n",
       "    </tr>\n",
       "    <tr>\n",
       "      <th>...</th>\n",
       "      <td>...</td>\n",
       "      <td>...</td>\n",
       "      <td>...</td>\n",
       "      <td>...</td>\n",
       "      <td>...</td>\n",
       "      <td>...</td>\n",
       "      <td>...</td>\n",
       "      <td>...</td>\n",
       "      <td>...</td>\n",
       "      <td>...</td>\n",
       "      <td>...</td>\n",
       "      <td>...</td>\n",
       "      <td>...</td>\n",
       "      <td>...</td>\n",
       "      <td>...</td>\n",
       "      <td>...</td>\n",
       "      <td>...</td>\n",
       "    </tr>\n",
       "    <tr>\n",
       "      <th>33952888</th>\n",
       "      <td>225785523</td>\n",
       "      <td>32759</td>\n",
       "      <td>158709</td>\n",
       "      <td>220657.0</td>\n",
       "      <td>157</td>\n",
       "      <td>2169-10-06 06:00:00</td>\n",
       "      <td>2169-10-06 06:19:00</td>\n",
       "      <td>19637</td>\n",
       "      <td>23.0</td>\n",
       "      <td>NaN</td>\n",
       "      <td>NaN</td>\n",
       "      <td>NaN</td>\n",
       "      <td>NaN</td>\n",
       "      <td>NaN</td>\n",
       "      <td>NotStopd</td>\n",
       "      <td>1</td>\n",
       "      <td>carevue</td>\n",
       "    </tr>\n",
       "    <tr>\n",
       "      <th>33952893</th>\n",
       "      <td>225754864</td>\n",
       "      <td>32736</td>\n",
       "      <td>185249</td>\n",
       "      <td>266299.0</td>\n",
       "      <td>157</td>\n",
       "      <td>2135-08-02 04:00:00</td>\n",
       "      <td>2135-08-02 05:00:00</td>\n",
       "      <td>15498</td>\n",
       "      <td>24.0</td>\n",
       "      <td>NaN</td>\n",
       "      <td>NaN</td>\n",
       "      <td>NaN</td>\n",
       "      <td>NaN</td>\n",
       "      <td>NaN</td>\n",
       "      <td>NotStopd</td>\n",
       "      <td>0</td>\n",
       "      <td>carevue</td>\n",
       "    </tr>\n",
       "    <tr>\n",
       "      <th>33952897</th>\n",
       "      <td>225763223</td>\n",
       "      <td>32743</td>\n",
       "      <td>133436</td>\n",
       "      <td>257061.0</td>\n",
       "      <td>157</td>\n",
       "      <td>2198-09-06 07:00:00</td>\n",
       "      <td>2198-09-06 07:00:00</td>\n",
       "      <td>21570</td>\n",
       "      <td>NaN</td>\n",
       "      <td>NaN</td>\n",
       "      <td>NaN</td>\n",
       "      <td>NaN</td>\n",
       "      <td>NaN</td>\n",
       "      <td>NaN</td>\n",
       "      <td>D/C'd</td>\n",
       "      <td>0</td>\n",
       "      <td>carevue</td>\n",
       "    </tr>\n",
       "    <tr>\n",
       "      <th>33952901</th>\n",
       "      <td>225757291</td>\n",
       "      <td>32738</td>\n",
       "      <td>199704</td>\n",
       "      <td>237655.0</td>\n",
       "      <td>157</td>\n",
       "      <td>2155-07-19 19:15:00</td>\n",
       "      <td>2155-07-19 19:18:00</td>\n",
       "      <td>18366</td>\n",
       "      <td>24.0</td>\n",
       "      <td>NaN</td>\n",
       "      <td>NaN</td>\n",
       "      <td>NaN</td>\n",
       "      <td>NaN</td>\n",
       "      <td>NaN</td>\n",
       "      <td>NotStopd</td>\n",
       "      <td>1</td>\n",
       "      <td>carevue</td>\n",
       "    </tr>\n",
       "    <tr>\n",
       "      <th>33952904</th>\n",
       "      <td>225763617</td>\n",
       "      <td>32745</td>\n",
       "      <td>145060</td>\n",
       "      <td>295570.0</td>\n",
       "      <td>157</td>\n",
       "      <td>2151-07-15 03:00:00</td>\n",
       "      <td>2151-07-15 03:17:00</td>\n",
       "      <td>21005</td>\n",
       "      <td>22.0</td>\n",
       "      <td>NaN</td>\n",
       "      <td>NaN</td>\n",
       "      <td>NaN</td>\n",
       "      <td>NaN</td>\n",
       "      <td>NaN</td>\n",
       "      <td>NotStopd</td>\n",
       "      <td>1</td>\n",
       "      <td>carevue</td>\n",
       "    </tr>\n",
       "  </tbody>\n",
       "</table>\n",
       "<p>148434 rows × 17 columns</p>\n",
       "</div>"
      ],
      "text/plain": [
       "             row_id  subject_id  hadm_id  icustay_id  itemid  \\\n",
       "2611518   193302570         147   103631    252947.0     368   \n",
       "2611537   193151655           3   145834    211552.0     368   \n",
       "2611678   193340348         172   148505    235343.0     368   \n",
       "2611679   193340349         172   148505    235343.0     369   \n",
       "2611680   193340350         172   148505    235343.0     370   \n",
       "...             ...         ...      ...         ...     ...   \n",
       "33952888  225785523       32759   158709    220657.0     157   \n",
       "33952893  225754864       32736   185249    266299.0     157   \n",
       "33952897  225763223       32743   133436    257061.0     157   \n",
       "33952901  225757291       32738   199704    237655.0     157   \n",
       "33952904  225763617       32745   145060    295570.0     157   \n",
       "\n",
       "                    charttime            storetime   cgid value  valuenum  \\\n",
       "2611518   2158-06-25 11:00:00  2158-06-25 11:53:00  17399   0.5       NaN   \n",
       "2611537   2101-10-21 11:00:00  2101-10-21 13:53:00  19942   NaN       NaN   \n",
       "2611678   2168-07-23 09:00:00  2168-07-23 09:25:00  21570   2.0       NaN   \n",
       "2611679   2168-07-23 09:00:00  2168-07-23 09:25:00  21570   2.0       NaN   \n",
       "2611680   2168-07-23 09:00:00  2168-07-23 09:25:00  21570   2.0       NaN   \n",
       "...                       ...                  ...    ...   ...       ...   \n",
       "33952888  2169-10-06 06:00:00  2169-10-06 06:19:00  19637  23.0       NaN   \n",
       "33952893  2135-08-02 04:00:00  2135-08-02 05:00:00  15498  24.0       NaN   \n",
       "33952897  2198-09-06 07:00:00  2198-09-06 07:00:00  21570   NaN       NaN   \n",
       "33952901  2155-07-19 19:15:00  2155-07-19 19:18:00  18366  24.0       NaN   \n",
       "33952904  2151-07-15 03:00:00  2151-07-15 03:17:00  21005  22.0       NaN   \n",
       "\n",
       "         valueuom  warning  error resultstatus   stopped  expire_flag dbsource  \n",
       "2611518       NaN      NaN    NaN          NaN  NotStopd            0  carevue  \n",
       "2611537       NaN      NaN    NaN          NaN  NotStopd            1  carevue  \n",
       "2611678       NaN      NaN    NaN          NaN  NotStopd            0  carevue  \n",
       "2611679       NaN      NaN    NaN          NaN  NotStopd            0  carevue  \n",
       "2611680       NaN      NaN    NaN          NaN  NotStopd            0  carevue  \n",
       "...           ...      ...    ...          ...       ...          ...      ...  \n",
       "33952888      NaN      NaN    NaN          NaN  NotStopd            1  carevue  \n",
       "33952893      NaN      NaN    NaN          NaN  NotStopd            0  carevue  \n",
       "33952897      NaN      NaN    NaN          NaN     D/C'd            0  carevue  \n",
       "33952901      NaN      NaN    NaN          NaN  NotStopd            1  carevue  \n",
       "33952904      NaN      NaN    NaN          NaN  NotStopd            1  carevue  \n",
       "\n",
       "[148434 rows x 17 columns]"
      ]
     },
     "execution_count": 25,
     "metadata": {},
     "output_type": "execute_result"
    }
   ],
   "source": [
    "mimic_chart_CV[mimic_chart_CV[\"itemid\"].isin(final_cat_to_num_itemid_list)]"
   ]
  },
  {
   "cell_type": "markdown",
   "id": "e3011431",
   "metadata": {},
   "source": [
    "## Below block is used to check whether successfully transform those rows with non-\"Other/Remarks\" value from string to float"
   ]
  },
  {
   "cell_type": "code",
   "execution_count": 26,
   "id": "fc965993",
   "metadata": {},
   "outputs": [
    {
     "name": "stdout",
     "output_type": "stream",
     "text": [
      "5240\n",
      "5240\n"
     ]
    }
   ],
   "source": [
    "print(values_to_be_transformed[\"value\"].isna().sum())\n",
    "print(values_to_be_transformed[\"scalar_value\"].isna().sum())\n",
    "        \n"
   ]
  },
  {
   "cell_type": "markdown",
   "id": "d49c11c2",
   "metadata": {},
   "source": [
    "# next step(continue on the cat_to_num_transformation): groupby itemid on the above mimic_chart_cv[itemid isin final_cat_to_num_itemid_list], transfer all the \"other/remark\" value into \"NaN\", leave the \"NaN\"  as it was"
   ]
  },
  {
   "cell_type": "markdown",
   "id": "d93f0a5d",
   "metadata": {},
   "source": [
    "* Purpose of code block [93], [96], [98] is to see whether finish transforming \"Other/Remarks\" value into the specific scalar"
   ]
  },
  {
   "cell_type": "code",
   "execution_count": 27,
   "id": "d0fd7b34",
   "metadata": {
    "scrolled": false
   },
   "outputs": [
    {
     "data": {
      "text/html": [
       "<div>\n",
       "<style scoped>\n",
       "    .dataframe tbody tr th:only-of-type {\n",
       "        vertical-align: middle;\n",
       "    }\n",
       "\n",
       "    .dataframe tbody tr th {\n",
       "        vertical-align: top;\n",
       "    }\n",
       "\n",
       "    .dataframe thead th {\n",
       "        text-align: right;\n",
       "    }\n",
       "</style>\n",
       "<table border=\"1\" class=\"dataframe\">\n",
       "  <thead>\n",
       "    <tr style=\"text-align: right;\">\n",
       "      <th></th>\n",
       "      <th>itemid</th>\n",
       "      <th>value</th>\n",
       "    </tr>\n",
       "  </thead>\n",
       "  <tbody>\n",
       "    <tr>\n",
       "      <th>2612809</th>\n",
       "      <td>368</td>\n",
       "      <td>Other/Remarks</td>\n",
       "    </tr>\n",
       "    <tr>\n",
       "      <th>2612810</th>\n",
       "      <td>369</td>\n",
       "      <td>Other/Remarks</td>\n",
       "    </tr>\n",
       "    <tr>\n",
       "      <th>2615368</th>\n",
       "      <td>368</td>\n",
       "      <td>Other/Remarks</td>\n",
       "    </tr>\n",
       "    <tr>\n",
       "      <th>3582492</th>\n",
       "      <td>8412</td>\n",
       "      <td>Other/Remarks</td>\n",
       "    </tr>\n",
       "  </tbody>\n",
       "</table>\n",
       "</div>"
      ],
      "text/plain": [
       "         itemid          value\n",
       "2612809     368  Other/Remarks\n",
       "2612810     369  Other/Remarks\n",
       "2615368     368  Other/Remarks\n",
       "3582492    8412  Other/Remarks"
      ]
     },
     "execution_count": 27,
     "metadata": {},
     "output_type": "execute_result"
    }
   ],
   "source": [
    "mimic_chart_CV[mimic_chart_CV[\"row_id\"].isin([193180751, 193532947, 193180752, 227888572])][[\"itemid\", \"value\"]]"
   ]
  },
  {
   "cell_type": "code",
   "execution_count": 28,
   "id": "497182f3",
   "metadata": {},
   "outputs": [],
   "source": [
    "chart_CV_gb_itemid_all_cols = mimic_chart_CV.groupby(\"itemid\")\n",
    "for itemid in final_cat_to_num_itemid_list:\n",
    "    cur_item = chart_CV_gb_itemid_all_cols.get_group(itemid)\n",
    "    with pd.option_context(\"display.max_rows\", None, \"display.max_columns\", None):\n",
    "        cur_item_unique_value = list(cur_item[\"value\"].value_counts().index)\n",
    "        if \"Other/Remarks\" in cur_item_unique_value:\n",
    "#             cur_item_unique_value.remove(\"Other/Remarks\")\n",
    "#             cur_item_max_item_unique_value = max(cur_item_unique_value)\n",
    "            # var \"rows_id_other\" are the \"row_id\" of the rows whose \"value\" cols equals to \"Other/Remarks\"\n",
    "            rows_id_other = cur_item[cur_item[\"value\"]==\"Other/Remarks\"][\"row_id\"]\n",
    "            mimic_chart_CV.loc[mimic_chart_CV[\"row_id\"].isin(rows_id_other),['value']] = None\n",
    "\n",
    "#         display(cur_item[\"value\"].value_counts())\n",
    "    "
   ]
  },
  {
   "cell_type": "code",
   "execution_count": 29,
   "id": "99df2cd9",
   "metadata": {},
   "outputs": [
    {
     "data": {
      "text/html": [
       "<div>\n",
       "<style scoped>\n",
       "    .dataframe tbody tr th:only-of-type {\n",
       "        vertical-align: middle;\n",
       "    }\n",
       "\n",
       "    .dataframe tbody tr th {\n",
       "        vertical-align: top;\n",
       "    }\n",
       "\n",
       "    .dataframe thead th {\n",
       "        text-align: right;\n",
       "    }\n",
       "</style>\n",
       "<table border=\"1\" class=\"dataframe\">\n",
       "  <thead>\n",
       "    <tr style=\"text-align: right;\">\n",
       "      <th></th>\n",
       "      <th>itemid</th>\n",
       "      <th>value</th>\n",
       "    </tr>\n",
       "  </thead>\n",
       "  <tbody>\n",
       "    <tr>\n",
       "      <th>2612809</th>\n",
       "      <td>368</td>\n",
       "      <td>None</td>\n",
       "    </tr>\n",
       "    <tr>\n",
       "      <th>2612810</th>\n",
       "      <td>369</td>\n",
       "      <td>None</td>\n",
       "    </tr>\n",
       "    <tr>\n",
       "      <th>2615368</th>\n",
       "      <td>368</td>\n",
       "      <td>None</td>\n",
       "    </tr>\n",
       "    <tr>\n",
       "      <th>3582492</th>\n",
       "      <td>8412</td>\n",
       "      <td>None</td>\n",
       "    </tr>\n",
       "  </tbody>\n",
       "</table>\n",
       "</div>"
      ],
      "text/plain": [
       "         itemid value\n",
       "2612809     368  None\n",
       "2612810     369  None\n",
       "2615368     368  None\n",
       "3582492    8412  None"
      ]
     },
     "execution_count": 29,
     "metadata": {},
     "output_type": "execute_result"
    }
   ],
   "source": [
    "mimic_chart_CV[mimic_chart_CV[\"row_id\"].isin([193180751, 193532947, 193180752, 227888572])][[\"itemid\", \"value\"]]"
   ]
  },
  {
   "cell_type": "code",
   "execution_count": 30,
   "id": "952f6221",
   "metadata": {},
   "outputs": [
    {
     "data": {
      "text/plain": [
       "7.5     35117\n",
       "7.0     16051\n",
       "23.0    14667\n",
       "22.0    14598\n",
       "8.0     13667\n",
       "21.0    13259\n",
       "24.0     7128\n",
       "20.0     6430\n",
       "NaN      5973\n",
       "19.0     2747\n",
       "25.0     2590\n",
       "2.0      2359\n",
       "0.5      2331\n",
       "1.0      2218\n",
       "3.0      1697\n",
       "6.0      1494\n",
       "4.0      1096\n",
       "26.0     1018\n",
       "18.0      981\n",
       "6.5       735\n",
       "5.0       734\n",
       "8.5       537\n",
       "9.0       510\n",
       "27.0      454\n",
       "10.0       40\n",
       "9.5         3\n",
       "Name: value, dtype: int64"
      ]
     },
     "execution_count": 30,
     "metadata": {},
     "output_type": "execute_result"
    }
   ],
   "source": [
    "mimic_chart_CV[mimic_chart_CV[\"itemid\"].isin(final_cat_to_num_itemid_list)][\"value\"].value_counts(dropna=False)"
   ]
  },
  {
   "cell_type": "markdown",
   "id": "4da69b91",
   "metadata": {},
   "source": [
    "## Then transfer all the itemids in \"list_itemid_num_chart_CV\" from string to float"
   ]
  },
  {
   "cell_type": "markdown",
   "id": "0139fbaa",
   "metadata": {},
   "source": [
    "* Notice: code block [111] and [110] is for checking whether finishing the transformation (successfully)"
   ]
  },
  {
   "cell_type": "code",
   "execution_count": 31,
   "id": "a7d2a63f",
   "metadata": {},
   "outputs": [],
   "source": [
    "for itemid in list_itemid_num_chart_CV:\n",
    "    mimic_chart_CV.loc[mimic_chart_CV[\"itemid\"]==itemid,['value']] = pd.to_numeric(mimic_chart_CV[mimic_chart_CV[\"itemid\"]==itemid][\"value\"], errors=\"coerce\") \n",
    "    "
   ]
  },
  {
   "cell_type": "code",
   "execution_count": 111,
   "id": "6864692e",
   "metadata": {},
   "outputs": [],
   "source": [
    "# list_itemid_num_chart_CV\n",
    "# mimic_chart_CV_gb_itemid = mimic_chart_CV[[\"itemid\", \"value\"]].groupby(\"itemid\")\n",
    "# for itemid in list_itemid_num_chart_CV:\n",
    "#     cur_itemid_values = mimic_chart_CV_gb_itemid.get_group(itemid)[\"value\"]\n",
    "#     if itemid == 53 or itemid == 8555:\n",
    "#         for i in cur_itemid_values.index:\n",
    "#             print(cur_itemid_values[i])\n",
    "#             print(type(cur_itemid_values[i]))\n"
   ]
  },
  {
   "cell_type": "code",
   "execution_count": 110,
   "id": "efff0839",
   "metadata": {},
   "outputs": [],
   "source": [
    "# mimic_chart_CV_gb_itemid = mimic_chart_CV[[\"itemid\", \"value\"]].groupby(\"itemid\")\n",
    "# for itemid in list_itemid_num_chart_CV:\n",
    "#     cur_itemid_values = mimic_chart_CV_gb_itemid.get_group(itemid)[\"value\"]\n",
    "#     if itemid == 53 or itemid == 8555:\n",
    "#         for i in cur_itemid_values.index:\n",
    "#             print(cur_itemid_values[i])\n",
    "#             print(type(cur_itemid_values[i]))"
   ]
  },
  {
   "cell_type": "markdown",
   "id": "2a13c627",
   "metadata": {},
   "source": [
    "* Also checking whether itemids in final_cat_to_num_itemid_list finishing transforming from string to float/integer type : the value's type tranformation for itemids in final_cat_to_num_itemid_list has already been done in block (successfully)"
   ]
  },
  {
   "cell_type": "code",
   "execution_count": 109,
   "id": "c7e4a719",
   "metadata": {},
   "outputs": [],
   "source": [
    "# for itemid in final_cat_to_num_itemid_list:\n",
    "#     cur_itemid_values = mimic_chart_CV_gb_itemid.get_group(itemid)[\"value\"]\n",
    "#     if itemid == 368:\n",
    "#         for i in cur_itemid_values.index:\n",
    "#             print(cur_itemid_values[i])\n",
    "#             print(type(cur_itemid_values[i]))"
   ]
  },
  {
   "cell_type": "markdown",
   "id": "37372232",
   "metadata": {},
   "source": [
    "## combine \"list_itemid_num_chart_CV\" and \"final_cat_to_num_itemid_list\", which will be the \"final_numeric_itemid_list\" for mimic_chart_CV data.\n",
    "## only keep those itemid in \"final_numeric_itemid_list\" as the final data used for feature matching algorithm"
   ]
  },
  {
   "cell_type": "code",
   "execution_count": 32,
   "id": "444604d3",
   "metadata": {},
   "outputs": [
    {
     "data": {
      "text/plain": [
       "1101"
      ]
     },
     "execution_count": 32,
     "metadata": {},
     "output_type": "execute_result"
    }
   ],
   "source": [
    "final_numeric_itemid_list = list_itemid_num_chart_CV + final_cat_to_num_itemid_list\n",
    "len(final_numeric_itemid_list)"
   ]
  },
  {
   "cell_type": "code",
   "execution_count": 33,
   "id": "d50472b2",
   "metadata": {},
   "outputs": [
    {
     "name": "stdout",
     "output_type": "stream",
     "text": [
      "original mimic_chart_CV shape:  (34562488, 17)\n"
     ]
    }
   ],
   "source": [
    "print(\"original mimic_chart_CV shape: \", mimic_chart_CV.shape)"
   ]
  },
  {
   "cell_type": "code",
   "execution_count": 34,
   "id": "59f44eae",
   "metadata": {},
   "outputs": [],
   "source": [
    "mimic_chart_CV = mimic_chart_CV[mimic_chart_CV[\"itemid\"].isin(final_numeric_itemid_list)]"
   ]
  },
  {
   "cell_type": "code",
   "execution_count": 35,
   "id": "ddbf63f2",
   "metadata": {},
   "outputs": [
    {
     "name": "stdout",
     "output_type": "stream",
     "text": [
      "final mimic_chart_CV shape(only keeping the numeric itemid):  (16306039, 17)\n"
     ]
    }
   ],
   "source": [
    "print(\"final mimic_chart_CV shape(only keeping the numeric itemid): \", mimic_chart_CV.shape)"
   ]
  },
  {
   "cell_type": "markdown",
   "id": "cb6c3e9f",
   "metadata": {},
   "source": [
    "# Forget one step to filter only the hadm_id in mimic_chart_CV which is common with those hadm_id in mimic_lab_CV"
   ]
  },
  {
   "cell_type": "code",
   "execution_count": 36,
   "id": "5661802c",
   "metadata": {},
   "outputs": [
    {
     "data": {
      "text/plain": [
       "(16306039, 17)"
      ]
     },
     "execution_count": 36,
     "metadata": {},
     "output_type": "execute_result"
    }
   ],
   "source": [
    "mimic_chart_CV.shape"
   ]
  },
  {
   "cell_type": "code",
   "execution_count": 37,
   "id": "08996159",
   "metadata": {},
   "outputs": [],
   "source": [
    "mimic_lab_CV = pd.read_csv(\"./data/mimic_lab_CV_reg_pre.csv\")\n"
   ]
  },
  {
   "cell_type": "code",
   "execution_count": 38,
   "id": "e1e9e8b1",
   "metadata": {},
   "outputs": [
    {
     "name": "stdout",
     "output_type": "stream",
     "text": [
      "hadm_id in mimic_lab_CV:  26106\n",
      "hadm_id in mimic_chart_CV 26352\n",
      "common hadm_id: 26103\n"
     ]
    }
   ],
   "source": [
    "mimic_lab_CV_hadm_id = set(mimic_lab_CV[\"hadm_id\"].unique())\n",
    "mimic_chart_CV_hadm_id = set(mimic_chart_CV[\"hadm_id\"].unique())\n",
    "common_hadm_id_CV = mimic_lab_CV_hadm_id.intersection(mimic_chart_CV_hadm_id)\n",
    "print(\"hadm_id in mimic_lab_CV: \", len(mimic_lab_CV_hadm_id))\n",
    "print(\"hadm_id in mimic_chart_CV\", len(mimic_chart_CV_hadm_id))\n",
    "print(\"common hadm_id:\", len(common_hadm_id_CV))"
   ]
  },
  {
   "cell_type": "code",
   "execution_count": 39,
   "id": "a8b3a54a",
   "metadata": {},
   "outputs": [
    {
     "name": "stdout",
     "output_type": "stream",
     "text": [
      "original shape for mimic_chart_CV:  (16306039, 17)\n",
      "after filtering the uncommon hadmid shape:  (16248172, 17)\n"
     ]
    }
   ],
   "source": [
    "print(\"original shape for mimic_chart_CV: \", mimic_chart_CV.shape)\n",
    "mimic_chart_CV = mimic_chart_CV[mimic_chart_CV[\"hadm_id\"].isin(common_hadm_id_CV)]\n",
    "print(\"after filtering the uncommon hadmid shape: \", mimic_chart_CV.shape)"
   ]
  },
  {
   "cell_type": "code",
   "execution_count": 40,
   "id": "17132a49",
   "metadata": {},
   "outputs": [],
   "source": [
    "mimic_chart_CV.to_csv(\"./data/mimic_chart_CV_only_numeric.csv\", index=False)"
   ]
  },
  {
   "cell_type": "code",
   "execution_count": null,
   "id": "f9db6222",
   "metadata": {},
   "outputs": [],
   "source": []
  }
 ],
 "metadata": {
  "kernelspec": {
   "display_name": "Python 3",
   "language": "python",
   "name": "python3"
  },
  "language_info": {
   "codemirror_mode": {
    "name": "ipython",
    "version": 3
   },
   "file_extension": ".py",
   "mimetype": "text/x-python",
   "name": "python",
   "nbconvert_exporter": "python",
   "pygments_lexer": "ipython3",
   "version": "3.8.8"
  }
 },
 "nbformat": 4,
 "nbformat_minor": 5
}
