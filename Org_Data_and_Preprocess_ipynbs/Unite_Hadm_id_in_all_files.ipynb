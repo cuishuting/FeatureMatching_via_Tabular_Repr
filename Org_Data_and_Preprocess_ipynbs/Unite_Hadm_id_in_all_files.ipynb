{
 "cells": [
  {
   "cell_type": "markdown",
   "id": "29dc8fb5",
   "metadata": {},
   "source": [
    "# This file will make all the files in Processed_Data have the same hadm_id"
   ]
  },
  {
   "cell_type": "code",
   "execution_count": 2,
   "id": "3a5a3e5a",
   "metadata": {},
   "outputs": [],
   "source": [
    "import pandas as pd"
   ]
  },
  {
   "cell_type": "code",
   "execution_count": 3,
   "id": "132c0026",
   "metadata": {},
   "outputs": [],
   "source": [
    "chart_cv_only_cat = pd.read_csv(\"../Processed_Data/mimic_chart_CV_only_cat.csv\")\n",
    "chart_cv_only_cat_hadm_id = set(chart_cv_only_cat[\"hadm_id\"].unique())"
   ]
  },
  {
   "cell_type": "code",
   "execution_count": 4,
   "id": "92075acb",
   "metadata": {},
   "outputs": [
    {
     "name": "stderr",
     "output_type": "stream",
     "text": [
      "/Users/shutingcui/opt/anaconda3/lib/python3.8/site-packages/IPython/core/interactiveshell.py:3165: DtypeWarning: Columns (10,13) have mixed types.Specify dtype option on import or set low_memory=False.\n",
      "  has_raised = await self.run_ast_nodes(code_ast.body, cell_name,\n"
     ]
    }
   ],
   "source": [
    "chart_cv_only_num = pd.read_csv(\"../Processed_Data/mimic_chart_CV_only_numeric_new.csv\")\n",
    "chart_cv_only_num_hadm_id = set(chart_cv_only_num[\"hadm_id\"].unique())"
   ]
  },
  {
   "cell_type": "code",
   "execution_count": 5,
   "id": "81222211",
   "metadata": {},
   "outputs": [],
   "source": [
    "chart_mv_only_cat = pd.read_csv(\"../Processed_Data/mimic_chart_MV_only_cat.csv\")\n",
    "chart_mv_only_cat_hadm_id = set(chart_mv_only_cat[\"hadm_id\"].unique())"
   ]
  },
  {
   "cell_type": "code",
   "execution_count": 6,
   "id": "ebfcfa32",
   "metadata": {},
   "outputs": [],
   "source": [
    "chart_mv_only_num = pd.read_csv(\"../Processed_Data/mimic_chart_MV_only_numeric_new.csv\")\n",
    "chart_mv_only_num_hadm_id = set(chart_mv_only_num[\"hadm_id\"].unique())"
   ]
  },
  {
   "cell_type": "code",
   "execution_count": 7,
   "id": "b1172b48",
   "metadata": {},
   "outputs": [],
   "source": [
    "lab_cv = pd.read_csv(\"../Processed_Data/mimic_lab_CV_reg_pre_new.csv\")\n",
    "lab_cv_hadm_id = set(lab_cv[\"hadm_id\"].unique())"
   ]
  },
  {
   "cell_type": "code",
   "execution_count": 8,
   "id": "8adf1120",
   "metadata": {},
   "outputs": [],
   "source": [
    "lab_mv = pd.read_csv(\"../Processed_Data/mimic_lab_MV_reg_pre_new.csv\")\n",
    "lab_mv_hadm_id = set(lab_mv[\"hadm_id\"].unique())"
   ]
  },
  {
   "cell_type": "code",
   "execution_count": 9,
   "id": "ec88deed",
   "metadata": {},
   "outputs": [],
   "source": [
    "static_cv = pd.read_csv(\"../Processed_Data/mimic_static_CV.csv\")\n",
    "static_cv_hadm_id = set(static_cv[\"hadm_id\"].unique())"
   ]
  },
  {
   "cell_type": "code",
   "execution_count": 10,
   "id": "0a61bdb9",
   "metadata": {},
   "outputs": [],
   "source": [
    "static_mv = pd.read_csv(\"../Processed_Data/mimic_static_MV.csv\")\n",
    "static_mv_hadm_id = set(static_mv[\"hadm_id\"].unique())"
   ]
  },
  {
   "cell_type": "code",
   "execution_count": 11,
   "id": "69085ed8",
   "metadata": {},
   "outputs": [
    {
     "name": "stdout",
     "output_type": "stream",
     "text": [
      "chart_cv_only_cat_hadm_id:  26066\n",
      "chart_cv_only_num_hadm_id:  26101\n",
      "chart_mv_only_cat_hadm_id:  21018\n",
      "chart_mv_only_num_hadm_id:  21067\n",
      "lab_cv_hadm_id:  26077\n",
      "lab_mv_hadm_id:  21080\n",
      "static_cv_hadm_id:  26066\n",
      "static_mv_hadm_id:  21018\n"
     ]
    }
   ],
   "source": [
    "print(\"chart_cv_only_cat_hadm_id: \", len(chart_cv_only_cat_hadm_id))\n",
    "print(\"chart_cv_only_num_hadm_id: \", len(chart_cv_only_num_hadm_id))\n",
    "print(\"chart_mv_only_cat_hadm_id: \", len(chart_mv_only_cat_hadm_id))\n",
    "print(\"chart_mv_only_num_hadm_id: \", len(chart_mv_only_num_hadm_id))\n",
    "print(\"lab_cv_hadm_id: \", len(lab_cv_hadm_id))\n",
    "print(\"lab_mv_hadm_id: \", len(lab_mv_hadm_id))\n",
    "print(\"static_cv_hadm_id: \", len(static_cv_hadm_id))\n",
    "print(\"static_mv_hadm_id: \", len(static_mv_hadm_id))"
   ]
  },
  {
   "cell_type": "code",
   "execution_count": 12,
   "id": "e4e9088f",
   "metadata": {},
   "outputs": [
    {
     "name": "stdout",
     "output_type": "stream",
     "text": [
      "common hadmid cv:  26036\n",
      "common hadmid mv:  20972\n"
     ]
    }
   ],
   "source": [
    "common_hadm_id_cv = lab_cv_hadm_id.intersection(chart_cv_only_num_hadm_id, chart_cv_only_cat_hadm_id, static_cv_hadm_id)\n",
    "common_hadm_id_mv = lab_mv_hadm_id.intersection(chart_mv_only_num_hadm_id, chart_mv_only_cat_hadm_id, static_mv_hadm_id)\n",
    "print(\"common hadmid cv: \", len(common_hadm_id_cv))\n",
    "print(\"common hadmid mv: \", len(common_hadm_id_mv))"
   ]
  },
  {
   "cell_type": "markdown",
   "id": "a0d9a247",
   "metadata": {},
   "source": [
    "# cv era: lab_cv, chart_cv_num, chart_cv_cat, static_cv"
   ]
  },
  {
   "cell_type": "markdown",
   "id": "e8fe846b",
   "metadata": {},
   "source": [
    "* chart_cv_cat"
   ]
  },
  {
   "cell_type": "code",
   "execution_count": 13,
   "id": "46123302",
   "metadata": {
    "scrolled": true
   },
   "outputs": [
    {
     "data": {
      "text/html": [
       "<div>\n",
       "<style scoped>\n",
       "    .dataframe tbody tr th:only-of-type {\n",
       "        vertical-align: middle;\n",
       "    }\n",
       "\n",
       "    .dataframe tbody tr th {\n",
       "        vertical-align: top;\n",
       "    }\n",
       "\n",
       "    .dataframe thead th {\n",
       "        text-align: right;\n",
       "    }\n",
       "</style>\n",
       "<table border=\"1\" class=\"dataframe\">\n",
       "  <thead>\n",
       "    <tr style=\"text-align: right;\">\n",
       "      <th></th>\n",
       "      <th>row_id</th>\n",
       "      <th>subject_id</th>\n",
       "      <th>hadm_id</th>\n",
       "      <th>icustay_id</th>\n",
       "      <th>itemid</th>\n",
       "      <th>charttime</th>\n",
       "      <th>storetime</th>\n",
       "      <th>cgid</th>\n",
       "      <th>value</th>\n",
       "      <th>valuenum</th>\n",
       "      <th>valueuom</th>\n",
       "      <th>warning</th>\n",
       "      <th>error</th>\n",
       "      <th>resultstatus</th>\n",
       "      <th>stopped</th>\n",
       "      <th>expire_flag</th>\n",
       "      <th>dbsource</th>\n",
       "    </tr>\n",
       "  </thead>\n",
       "  <tbody>\n",
       "    <tr>\n",
       "      <th>0</th>\n",
       "      <td>34360891</td>\n",
       "      <td>30</td>\n",
       "      <td>104557</td>\n",
       "      <td>225176.0</td>\n",
       "      <td>283</td>\n",
       "      <td>2172-10-14 19:00:00</td>\n",
       "      <td>2172-10-14 19:38:00</td>\n",
       "      <td>16018</td>\n",
       "      <td>283_1</td>\n",
       "      <td>NaN</td>\n",
       "      <td>NaN</td>\n",
       "      <td>NaN</td>\n",
       "      <td>NaN</td>\n",
       "      <td>NaN</td>\n",
       "      <td>NotStopd</td>\n",
       "      <td>0</td>\n",
       "      <td>carevue</td>\n",
       "    </tr>\n",
       "    <tr>\n",
       "      <th>1</th>\n",
       "      <td>34332845</td>\n",
       "      <td>13</td>\n",
       "      <td>143045</td>\n",
       "      <td>263738.0</td>\n",
       "      <td>283</td>\n",
       "      <td>2167-01-09 00:00:00</td>\n",
       "      <td>2167-01-09 02:29:00</td>\n",
       "      <td>16866</td>\n",
       "      <td>283_1</td>\n",
       "      <td>NaN</td>\n",
       "      <td>NaN</td>\n",
       "      <td>NaN</td>\n",
       "      <td>NaN</td>\n",
       "      <td>NaN</td>\n",
       "      <td>NotStopd</td>\n",
       "      <td>0</td>\n",
       "      <td>carevue</td>\n",
       "    </tr>\n",
       "    <tr>\n",
       "      <th>2</th>\n",
       "      <td>34339444</td>\n",
       "      <td>17</td>\n",
       "      <td>161087</td>\n",
       "      <td>257980.0</td>\n",
       "      <td>283</td>\n",
       "      <td>2135-05-10 07:00:00</td>\n",
       "      <td>2135-05-10 06:59:00</td>\n",
       "      <td>15039</td>\n",
       "      <td>283_1</td>\n",
       "      <td>NaN</td>\n",
       "      <td>NaN</td>\n",
       "      <td>NaN</td>\n",
       "      <td>NaN</td>\n",
       "      <td>NaN</td>\n",
       "      <td>NotStopd</td>\n",
       "      <td>0</td>\n",
       "      <td>carevue</td>\n",
       "    </tr>\n",
       "    <tr>\n",
       "      <th>3</th>\n",
       "      <td>34337424</td>\n",
       "      <td>17</td>\n",
       "      <td>194023</td>\n",
       "      <td>277042.0</td>\n",
       "      <td>283</td>\n",
       "      <td>2134-12-28 16:00:00</td>\n",
       "      <td>2134-12-28 15:52:00</td>\n",
       "      <td>15652</td>\n",
       "      <td>283_1</td>\n",
       "      <td>NaN</td>\n",
       "      <td>NaN</td>\n",
       "      <td>NaN</td>\n",
       "      <td>NaN</td>\n",
       "      <td>NaN</td>\n",
       "      <td>NotStopd</td>\n",
       "      <td>0</td>\n",
       "      <td>carevue</td>\n",
       "    </tr>\n",
       "    <tr>\n",
       "      <th>4</th>\n",
       "      <td>34337425</td>\n",
       "      <td>17</td>\n",
       "      <td>194023</td>\n",
       "      <td>277042.0</td>\n",
       "      <td>284</td>\n",
       "      <td>2134-12-28 16:00:00</td>\n",
       "      <td>2134-12-28 15:52:00</td>\n",
       "      <td>15652</td>\n",
       "      <td>284_1</td>\n",
       "      <td>NaN</td>\n",
       "      <td>NaN</td>\n",
       "      <td>NaN</td>\n",
       "      <td>NaN</td>\n",
       "      <td>NaN</td>\n",
       "      <td>NotStopd</td>\n",
       "      <td>0</td>\n",
       "      <td>carevue</td>\n",
       "    </tr>\n",
       "  </tbody>\n",
       "</table>\n",
       "</div>"
      ],
      "text/plain": [
       "     row_id  subject_id  hadm_id  icustay_id  itemid            charttime  \\\n",
       "0  34360891          30   104557    225176.0     283  2172-10-14 19:00:00   \n",
       "1  34332845          13   143045    263738.0     283  2167-01-09 00:00:00   \n",
       "2  34339444          17   161087    257980.0     283  2135-05-10 07:00:00   \n",
       "3  34337424          17   194023    277042.0     283  2134-12-28 16:00:00   \n",
       "4  34337425          17   194023    277042.0     284  2134-12-28 16:00:00   \n",
       "\n",
       "             storetime   cgid  value  valuenum  valueuom  warning  error  \\\n",
       "0  2172-10-14 19:38:00  16018  283_1       NaN       NaN      NaN    NaN   \n",
       "1  2167-01-09 02:29:00  16866  283_1       NaN       NaN      NaN    NaN   \n",
       "2  2135-05-10 06:59:00  15039  283_1       NaN       NaN      NaN    NaN   \n",
       "3  2134-12-28 15:52:00  15652  283_1       NaN       NaN      NaN    NaN   \n",
       "4  2134-12-28 15:52:00  15652  284_1       NaN       NaN      NaN    NaN   \n",
       "\n",
       "   resultstatus   stopped  expire_flag dbsource  \n",
       "0           NaN  NotStopd            0  carevue  \n",
       "1           NaN  NotStopd            0  carevue  \n",
       "2           NaN  NotStopd            0  carevue  \n",
       "3           NaN  NotStopd            0  carevue  \n",
       "4           NaN  NotStopd            0  carevue  "
      ]
     },
     "execution_count": 13,
     "metadata": {},
     "output_type": "execute_result"
    }
   ],
   "source": [
    "chart_cv_only_cat = chart_cv_only_cat[chart_cv_only_cat[\"hadm_id\"].isin(common_hadm_id_cv)]\n",
    "chart_cv_only_cat.reset_index(drop=True, inplace=True)\n",
    "chart_cv_only_cat.head()"
   ]
  },
  {
   "cell_type": "code",
   "execution_count": 14,
   "id": "e0323f34",
   "metadata": {},
   "outputs": [],
   "source": [
    "chart_cv_only_cat.to_csv(\"../Processed_Data/mimic_chart_CV_only_cat.csv\", index=False)"
   ]
  },
  {
   "cell_type": "markdown",
   "id": "a548604c",
   "metadata": {},
   "source": [
    "* chart_cv_num"
   ]
  },
  {
   "cell_type": "code",
   "execution_count": 15,
   "id": "e9dbb16a",
   "metadata": {},
   "outputs": [],
   "source": [
    "chart_cv_only_num = chart_cv_only_num[chart_cv_only_num[\"hadm_id\"].isin(common_hadm_id_cv)]\n",
    "chart_cv_only_num.reset_index(drop=True, inplace=True)\n",
    "chart_cv_only_num.to_csv(\"../Processed_Data/mimic_chart_CV_only_numeric_new.csv\", index=False)"
   ]
  },
  {
   "cell_type": "markdown",
   "id": "19aec289",
   "metadata": {},
   "source": [
    "* lab_cv"
   ]
  },
  {
   "cell_type": "code",
   "execution_count": 16,
   "id": "d7f057ad",
   "metadata": {},
   "outputs": [],
   "source": [
    "lab_cv = lab_cv[lab_cv[\"hadm_id\"].isin(common_hadm_id_cv)]\n",
    "lab_cv.reset_index(drop=True, inplace=True)\n",
    "lab_cv.to_csv(\"../Processed_Data/mimic_lab_CV_reg_pre_new.csv\", index=False)"
   ]
  },
  {
   "cell_type": "markdown",
   "id": "10468fa2",
   "metadata": {},
   "source": [
    "* static_cv"
   ]
  },
  {
   "cell_type": "code",
   "execution_count": 17,
   "id": "7e1b91b1",
   "metadata": {},
   "outputs": [],
   "source": [
    "static_cv = static_cv[static_cv[\"hadm_id\"].isin(common_hadm_id_cv)]\n",
    "static_cv.reset_index(drop=True, inplace=True)\n",
    "static_cv.to_csv(\"../Processed_Data/mimic_static_CV.csv\", index=False)"
   ]
  },
  {
   "cell_type": "markdown",
   "id": "029ece96",
   "metadata": {},
   "source": [
    "# mv era: lab_mv, chart_mv_num, chart_mv_cat, static_mv"
   ]
  },
  {
   "cell_type": "markdown",
   "id": "445e41aa",
   "metadata": {},
   "source": [
    "* chart_mv_cat"
   ]
  },
  {
   "cell_type": "code",
   "execution_count": 18,
   "id": "31fb380e",
   "metadata": {},
   "outputs": [],
   "source": [
    "chart_mv_only_cat = chart_mv_only_cat[chart_mv_only_cat[\"hadm_id\"].isin(common_hadm_id_mv)]\n",
    "chart_mv_only_cat.reset_index(drop=True, inplace=True)\n",
    "chart_mv_only_cat.to_csv(\"../Processed_Data/mimic_chart_MV_only_cat.csv\", index=False)"
   ]
  },
  {
   "cell_type": "markdown",
   "id": "77abd084",
   "metadata": {},
   "source": [
    "* chart_mv_num"
   ]
  },
  {
   "cell_type": "code",
   "execution_count": 19,
   "id": "62b8da2d",
   "metadata": {},
   "outputs": [],
   "source": [
    "chart_mv_only_num = chart_mv_only_num[chart_mv_only_num[\"hadm_id\"].isin(common_hadm_id_mv)]\n",
    "chart_mv_only_num.reset_index(drop=True, inplace=True)\n",
    "chart_mv_only_num.to_csv(\"../Processed_Data/mimic_chart_MV_only_numeric_new.csv\", index=False)"
   ]
  },
  {
   "cell_type": "markdown",
   "id": "1c8dfd0a",
   "metadata": {},
   "source": [
    "* lab_mv"
   ]
  },
  {
   "cell_type": "code",
   "execution_count": 20,
   "id": "6dd5b669",
   "metadata": {},
   "outputs": [],
   "source": [
    "lab_mv = lab_mv[lab_mv[\"hadm_id\"].isin(common_hadm_id_mv)]\n",
    "lab_mv.reset_index(drop=True, inplace=True)\n",
    "lab_mv.to_csv(\"../Processed_Data/mimic_lab_MV_reg_pre_new.csv\", index=False)"
   ]
  },
  {
   "cell_type": "markdown",
   "id": "ca93b629",
   "metadata": {},
   "source": [
    "* static_mv"
   ]
  },
  {
   "cell_type": "code",
   "execution_count": 21,
   "id": "deb33a5f",
   "metadata": {},
   "outputs": [],
   "source": [
    "static_mv = static_mv[static_mv[\"hadm_id\"].isin(common_hadm_id_mv)]\n",
    "static_mv.reset_index(drop=True, inplace=True)\n",
    "static_mv.to_csv(\"../Processed_Data/mimic_static_MV.csv\", index=False)"
   ]
  },
  {
   "cell_type": "code",
   "execution_count": null,
   "id": "866ede43",
   "metadata": {},
   "outputs": [],
   "source": []
  }
 ],
 "metadata": {
  "kernelspec": {
   "display_name": "Python 3",
   "language": "python",
   "name": "python3"
  },
  "language_info": {
   "codemirror_mode": {
    "name": "ipython",
    "version": 3
   },
   "file_extension": ".py",
   "mimetype": "text/x-python",
   "name": "python",
   "nbconvert_exporter": "python",
   "pygments_lexer": "ipython3",
   "version": "3.8.8"
  }
 },
 "nbformat": 4,
 "nbformat_minor": 5
}
